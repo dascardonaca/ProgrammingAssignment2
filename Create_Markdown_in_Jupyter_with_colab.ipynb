{
  "nbformat": 4,
  "nbformat_minor": 0,
  "metadata": {
    "colab": {
      "provenance": [],
      "authorship_tag": "ABX9TyNfygXHWcB1+E1jXIH0jkgu",
      "include_colab_link": true
    },
    "kernelspec": {
      "name": "python3",
      "display_name": "Python 3"
    },
    "language_info": {
      "name": "python"
    }
  },
  "cells": [
    {
      "cell_type": "markdown",
      "metadata": {
        "id": "view-in-github",
        "colab_type": "text"
      },
      "source": [
        "<a href=\"https://colab.research.google.com/github/dascardonaca/ProgrammingAssignment2/blob/master/Create_Markdown_in_Jupyter_with_colab.ipynb\" target=\"_parent\"><img src=\"https://colab.research.google.com/assets/colab-badge.svg\" alt=\"Open In Colab\"/></a>"
      ]
    },
    {
      "cell_type": "code",
      "execution_count": null,
      "metadata": {
        "id": "X-fRp-SaHIy0"
      },
      "outputs": [],
      "source": [
        "print(\"hello world\")"
      ]
    },
    {
      "cell_type": "markdown",
      "source": [
        "#This is a test\n",
        "*cursive*\n",
        "\n",
        "**bold**\n",
        "**_asdf_**\n",
        "\n",
        "~test~\n",
        "\n",
        ">quote\n",
        "\n",
        "\n",
        "show some `code`\n",
        "```\n",
        "coding\n",
        "in\n",
        "multiple\n",
        "lines\n",
        "```"
      ],
      "metadata": {
        "id": "JS0YhxkdHWi1"
      }
    }
  ]
}